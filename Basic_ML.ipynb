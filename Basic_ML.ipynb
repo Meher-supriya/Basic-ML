{
  "nbformat": 4,
  "nbformat_minor": 0,
  "metadata": {
    "colab": {
      "name": "Basic ML",
      "provenance": [],
      "authorship_tag": "ABX9TyP7iIJ4fMP7+dbEcoSZMdVV",
      "include_colab_link": true
    },
    "kernelspec": {
      "name": "python3",
      "display_name": "Python 3"
    },
    "language_info": {
      "name": "python"
    }
  },
  "cells": [
    {
      "cell_type": "markdown",
      "metadata": {
        "id": "view-in-github",
        "colab_type": "text"
      },
      "source": [
        "<a href=\"https://colab.research.google.com/github/Meher-supriya/Basic-ML/blob/main/Basic_ML.ipynb\" target=\"_parent\"><img src=\"https://colab.research.google.com/assets/colab-badge.svg\" alt=\"Open In Colab\"/></a>"
      ]
    },
    {
      "cell_type": "code",
      "metadata": {
        "id": "TkvTYnHPaNMq"
      },
      "source": [
        ""
      ],
      "execution_count": null,
      "outputs": []
    },
    {
      "cell_type": "markdown",
      "metadata": {
        "id": "inuvc7fnaRfR"
      },
      "source": [
        "Sum of three numbers"
      ]
    },
    {
      "cell_type": "markdown",
      "metadata": {
        "id": "TQG6TreRahIa"
      },
      "source": [
        ""
      ]
    },
    {
      "cell_type": "code",
      "metadata": {
        "id": "JwlxtcuQaxcs",
        "colab": {
          "base_uri": "https://localhost:8080/"
        },
        "outputId": "4af2eb12-31d4-4ad4-fd16-6f188f0e20a8"
      },
      "source": [
        "a=int(input())\n",
        "b=int(input()) \n",
        "c=int(input()) \n",
        "Sum=a+b+c\n",
        "print(Sum)"
      ],
      "execution_count": null,
      "outputs": [
        {
          "output_type": "stream",
          "text": [
            "2\n",
            "2\n",
            "2\n",
            "6\n"
          ],
          "name": "stdout"
        }
      ]
    },
    {
      "cell_type": "code",
      "metadata": {
        "id": "V8CN_Mf-cD44"
      },
      "source": [
        ""
      ],
      "execution_count": null,
      "outputs": []
    },
    {
      "cell_type": "markdown",
      "metadata": {
        "id": "FCiL7XfNcEwV"
      },
      "source": [
        "Program to find the number is area rectangle"
      ]
    },
    {
      "cell_type": "code",
      "metadata": {
        "colab": {
          "base_uri": "https://localhost:8080/"
        },
        "id": "lTkZPdF6cREZ",
        "outputId": "acd0ffc2-a266-42e2-e045-89b6273c3697"
      },
      "source": [
        "l= int(input()) \n",
        "b=int(input()) \n",
        "Area=l*b\n",
        "print(Area)"
      ],
      "execution_count": null,
      "outputs": [
        {
          "output_type": "stream",
          "text": [
            "2\n",
            "3\n",
            "6\n"
          ],
          "name": "stdout"
        }
      ]
    },
    {
      "cell_type": "markdown",
      "metadata": {
        "id": "P763EtuhcukH"
      },
      "source": [
        "Program to find the leap year or not"
      ]
    },
    {
      "cell_type": "code",
      "metadata": {
        "id": "O4gTa6-ic-6Q",
        "colab": {
          "base_uri": "https://localhost:8080/"
        },
        "outputId": "7fde9202-bc0b-425b-a820-bbc510ed9def"
      },
      "source": [
        "a=int(input()) \n",
        "if a%4==0 and a%100!=0 or a%400==0:\n",
        "     print(\"leap year\") \n",
        "else:\n",
        "     print(\"non leap year\")"
      ],
      "execution_count": null,
      "outputs": [
        {
          "output_type": "stream",
          "text": [
            "2021\n",
            "non leap year\n"
          ],
          "name": "stdout"
        }
      ]
    }
  ]
}